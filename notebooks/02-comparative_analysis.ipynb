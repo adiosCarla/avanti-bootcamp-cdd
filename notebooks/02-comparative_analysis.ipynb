{
 "cells": [
  {
   "cell_type": "markdown",
   "id": "385c1918-b19f-4d5e-96ce-5f4eb1d26550",
   "metadata": {},
   "source": [
    "# Análise comparativa de modelos"
   ]
  },
  {
   "cell_type": "code",
   "execution_count": 1,
   "id": "7f81a370-d1e8-4ee9-b535-0643f1f12cb9",
   "metadata": {},
   "outputs": [],
   "source": [
    "import joblib\n",
    "import numpy as np\n",
    "import pandas as pd\n",
    "from IPython.display import display, Markdown\n",
    "\n",
    "from sklearn.pipeline import Pipeline\n",
    "from sklearn.impute import SimpleImputer\n",
    "from sklearn.preprocessing import StandardScaler, OneHotEncoder\n",
    "from sklearn.compose import ColumnTransformer\n",
    "\n",
    "from sklearn.neighbors import KNeighborsRegressor\n",
    "from sklearn.model_selection import ShuffleSplit, GridSearchCV, KFold, cross_validate\n",
    "from sklearn.linear_model import LinearRegression\n",
    "from sklearn.ensemble import GradientBoostingRegressor, RandomForestRegressor\n",
    "from sklearn.tree import DecisionTreeRegressor"
   ]
  },
  {
   "cell_type": "markdown",
   "id": "c00b1f20-20fd-45e7-baf1-9989b1809537",
   "metadata": {},
   "source": [
    "## 1. Obtenção de dados\n",
    "\n",
    "Nessa etapa obtemos novamente os arquivos brutos de dados e o dicionário antes de iniciar o pré-processamento."
   ]
  },
  {
   "cell_type": "code",
   "execution_count": 2,
   "id": "a01a4ec7-fe18-4b51-8cef-61904be82466",
   "metadata": {},
   "outputs": [
    {
     "data": {
      "text/html": [
       "<div>\n",
       "<style scoped>\n",
       "    .dataframe tbody tr th:only-of-type {\n",
       "        vertical-align: middle;\n",
       "    }\n",
       "\n",
       "    .dataframe tbody tr th {\n",
       "        vertical-align: top;\n",
       "    }\n",
       "\n",
       "    .dataframe thead th {\n",
       "        text-align: right;\n",
       "    }\n",
       "</style>\n",
       "<table border=\"1\" class=\"dataframe\">\n",
       "  <thead>\n",
       "    <tr style=\"text-align: right;\">\n",
       "      <th></th>\n",
       "      <th>variavel</th>\n",
       "      <th>descricao</th>\n",
       "      <th>tipo</th>\n",
       "      <th>subtipo</th>\n",
       "    </tr>\n",
       "  </thead>\n",
       "  <tbody>\n",
       "    <tr>\n",
       "      <th>0</th>\n",
       "      <td>mpg</td>\n",
       "      <td>Eficiência do combustível do carro, medida em ...</td>\n",
       "      <td>quantitativa</td>\n",
       "      <td>contínua</td>\n",
       "    </tr>\n",
       "    <tr>\n",
       "      <th>1</th>\n",
       "      <td>cylinders</td>\n",
       "      <td>Número de cilindros do motor do veículo</td>\n",
       "      <td>quantitativa</td>\n",
       "      <td>discreta</td>\n",
       "    </tr>\n",
       "    <tr>\n",
       "      <th>2</th>\n",
       "      <td>displacement</td>\n",
       "      <td>Volume total de ar e combustível que os cilind...</td>\n",
       "      <td>quantitativa</td>\n",
       "      <td>contínua</td>\n",
       "    </tr>\n",
       "    <tr>\n",
       "      <th>3</th>\n",
       "      <td>horsepower</td>\n",
       "      <td>Potência do motor, medido em cavalos de potência</td>\n",
       "      <td>quantitativa</td>\n",
       "      <td>contínua</td>\n",
       "    </tr>\n",
       "    <tr>\n",
       "      <th>4</th>\n",
       "      <td>weight</td>\n",
       "      <td>Peso do veículo, medido em libras</td>\n",
       "      <td>quantitativa</td>\n",
       "      <td>contínua</td>\n",
       "    </tr>\n",
       "    <tr>\n",
       "      <th>5</th>\n",
       "      <td>acceleration</td>\n",
       "      <td>Tempo necessário para o veículo acelerar de 0 ...</td>\n",
       "      <td>quantitativa</td>\n",
       "      <td>contínua</td>\n",
       "    </tr>\n",
       "    <tr>\n",
       "      <th>6</th>\n",
       "      <td>model_year</td>\n",
       "      <td>Ano de fabricação do modelo do veículo</td>\n",
       "      <td>quantitativa</td>\n",
       "      <td>discreta</td>\n",
       "    </tr>\n",
       "    <tr>\n",
       "      <th>7</th>\n",
       "      <td>origin</td>\n",
       "      <td>Origem do veículo</td>\n",
       "      <td>qualitativa</td>\n",
       "      <td>nominal</td>\n",
       "    </tr>\n",
       "    <tr>\n",
       "      <th>8</th>\n",
       "      <td>name</td>\n",
       "      <td>Nome ou modelo do veículo</td>\n",
       "      <td>qualitativa</td>\n",
       "      <td>nominal</td>\n",
       "    </tr>\n",
       "  </tbody>\n",
       "</table>\n",
       "</div>"
      ],
      "text/plain": [
       "       variavel                                          descricao  \\\n",
       "0           mpg  Eficiência do combustível do carro, medida em ...   \n",
       "1     cylinders            Número de cilindros do motor do veículo   \n",
       "2  displacement  Volume total de ar e combustível que os cilind...   \n",
       "3    horsepower   Potência do motor, medido em cavalos de potência   \n",
       "4        weight                 Peso do veículo, medido em libras    \n",
       "5  acceleration  Tempo necessário para o veículo acelerar de 0 ...   \n",
       "6    model_year             Ano de fabricação do modelo do veículo   \n",
       "7        origin                                  Origem do veículo   \n",
       "8          name                          Nome ou modelo do veículo   \n",
       "\n",
       "           tipo   subtipo  \n",
       "0  quantitativa  contínua  \n",
       "1  quantitativa  discreta  \n",
       "2  quantitativa  contínua  \n",
       "3  quantitativa  contínua  \n",
       "4  quantitativa  contínua  \n",
       "5  quantitativa  contínua  \n",
       "6  quantitativa  discreta  \n",
       "7   qualitativa   nominal  \n",
       "8   qualitativa   nominal  "
      ]
     },
     "execution_count": 2,
     "metadata": {},
     "output_type": "execute_result"
    }
   ],
   "source": [
    "df = pd.read_csv(\"../data/raw/data.csv\")\n",
    "df_dict = pd.read_csv(\"../data/external/dictionary.csv\")\n",
    "df_dict"
   ]
  },
  {
   "cell_type": "markdown",
   "id": "11adeeef-5278-4f8b-a744-edb8a7270430",
   "metadata": {},
   "source": [
    "## 2. Preparação de dados\n",
    "Aqui realizamos a normalização, codificação e o tratamento de dados discrepantes e/ou faltantes dentro do conjunto de dados."
   ]
  },
  {
   "cell_type": "code",
   "execution_count": 3,
   "id": "e95cc954-5603-4d54-883d-e5ef1243cfe1",
   "metadata": {},
   "outputs": [
    {
     "data": {
      "text/markdown": [
       "- **Variável alvo:** mpg \n",
       "\n",
       "- **Variáveis qualitativas nominais:** ['origin'] \n",
       "- **Variáveis quantitativas discretas:** ['cylinders', 'model_year'] \n",
       "- **Variáveis quantitativas contínuas:** ['displacement', 'horsepower', 'weight', 'acceleration'] \n"
      ],
      "text/plain": [
       "<IPython.core.display.Markdown object>"
      ]
     },
     "metadata": {},
     "output_type": "display_data"
    }
   ],
   "source": [
    "X = df.drop(columns=['name'], axis=1)\n",
    "\n",
    "target_column = 'mpg'\n",
    "\n",
    "nominal_columns = (\n",
    "    df_dict\n",
    "    .query(\"subtipo == 'nominal'and variavel != 'name'\")\n",
    "    .variavel\n",
    "    .to_list()\n",
    ")\n",
    "\n",
    "discrete_columns = (\n",
    "    df_dict\n",
    "    .query(\"subtipo == 'discreta'\")\n",
    "    .variavel\n",
    "    .to_list()\n",
    ")\n",
    "\n",
    "continuous_columns = (\n",
    "    df_dict\n",
    "    .query(\"subtipo == 'contínua' and variavel != @target_column\")\n",
    "    .variavel\n",
    "    .to_list()\n",
    ")\n",
    "\n",
    "X = df.drop(columns=[target_column], axis=1)\n",
    "y = df[target_column]\n",
    "\n",
    "display(Markdown(\n",
    "    f\"- **Variável alvo:** {target_column} \\n\\n\"\n",
    "    f\"- **Variáveis qualitativas nominais:** {nominal_columns} \\n\"\n",
    "    f\"- **Variáveis quantitativas discretas:** {discrete_columns} \\n\"\n",
    "    f\"- **Variáveis quantitativas contínuas:** {continuous_columns} \\n\"\n",
    "))"
   ]
  },
  {
   "cell_type": "markdown",
   "id": "af629345-655f-4d67-956e-909cef744c54",
   "metadata": {},
   "source": [
    "#### Tratamento de dados discrepantes"
   ]
  },
  {
   "cell_type": "code",
   "execution_count": 4,
   "id": "122597c4-0346-47c2-9553-a6a6125fef58",
   "metadata": {},
   "outputs": [],
   "source": [
    "nominal_preprocessor = Pipeline([\n",
    "    ('missing', SimpleImputer(strategy='most_frequent')), \n",
    "    ('encoding', OneHotEncoder(sparse_output=False, drop='first')), \n",
    "    ('normalization', StandardScaler())  \n",
    "])\n",
    "\n",
    "discrete_preprocessor = Pipeline([\n",
    "    ('missing', SimpleImputer(strategy='most_frequent')), \n",
    "    ('normalization', StandardScaler()) \n",
    "])\n",
    "\n",
    "continuous_preprocessor = Pipeline([\n",
    "    ('missing', SimpleImputer(strategy='mean')),  \n",
    "    ('normalization', StandardScaler()) \n",
    "])\n",
    "\n",
    "preprocessor = ColumnTransformer([\n",
    "    ('nominal', nominal_preprocessor, nominal_columns),\n",
    "    ('discrete', discrete_preprocessor, discrete_columns),\n",
    "    ('continuous', continuous_preprocessor, continuous_columns)\n",
    "\n",
    "])\n",
    "\n",
    "X_preprocessed = continuous_preprocessor.fit_transform(df[continuous_columns])\n",
    "model = LinearRegression()\n",
    "\n",
    "final_pipeline = Pipeline([\n",
    "    ('preprocessing', preprocessor),\n",
    "    ('model', model)\n",
    "])"
   ]
  },
  {
   "cell_type": "code",
   "execution_count": 5,
   "id": "f3a05528-0665-4cc6-9343-26e447ebe63e",
   "metadata": {},
   "outputs": [
    {
     "data": {
      "text/plain": [
       "(398, 8)"
      ]
     },
     "execution_count": 5,
     "metadata": {},
     "output_type": "execute_result"
    }
   ],
   "source": [
    "X_transformed = preprocessor.fit_transform(X)\n",
    "X_transformed.shape"
   ]
  },
  {
   "cell_type": "code",
   "execution_count": 6,
   "id": "c3e9d00d-81c9-46e3-8e64-c15c3e7010c4",
   "metadata": {},
   "outputs": [
    {
     "data": {
      "text/plain": [
       "array([[-0.49764335,  0.77355903,  1.49819126, ...,  0.66919608,\n",
       "         0.63086987, -1.29549834],\n",
       "       [-0.49764335,  0.77355903,  1.49819126, ...,  1.58659918,\n",
       "         0.85433297, -1.47703779],\n",
       "       [-0.49764335,  0.77355903,  1.49819126, ...,  1.19342642,\n",
       "         0.55047045, -1.65857724],\n",
       "       ...,\n",
       "       [-0.49764335,  0.77355903, -0.85632057, ..., -0.53653371,\n",
       "        -0.79858454, -1.4407299 ],\n",
       "       [-0.49764335,  0.77355903, -0.85632057, ..., -0.66759129,\n",
       "        -0.40841088,  1.10082237],\n",
       "       [-0.49764335,  0.77355903, -0.85632057, ..., -0.58895674,\n",
       "        -0.29608816,  1.39128549]])"
      ]
     },
     "metadata": {},
     "output_type": "display_data"
    }
   ],
   "source": [
    "display(X_transformed)"
   ]
  },
  {
   "cell_type": "markdown",
   "id": "a614a8d8-27ec-4976-b9f5-9f4ac98c6b89",
   "metadata": {},
   "source": [
    "## 3. Seleção de modelos\n",
    "Iremos análisar quatro modelos, que serão testados utilizando um método de validação:\n",
    "\n",
    "* K-Nearest Neighbors\n",
    "* Gradient Boosting\n",
    "* Decision Tree\n",
    "* Random Forest\n",
    "\n",
    "Além disso, cada um desses algoritmos será testado com diferentes hiper-parametros, para que possamos encontrar o melhor modelo e a melhor configuração possível para esse modelo.\n",
    "\n",
    "Utilizaremos as seguintes métricas para análise:\n",
    "\n",
    "* **Neg Mean Squared Error (`'neg_mean_squared_error'`)**: O erro quadrático médio (MSE) é a média dos quadrados das diferenças entre os valores previstos e os valores reais. É uma medida que penaliza erros maiores de forma mais severa, já que os erros são elevados ao quadrado.\n",
    "* **Neg Mean Absolute Error (`'neg_mean_absolute_error'`)**: O erro absoluto médio (MAE) é a média das diferenças absolutas entre os valores previstos e os valores reais. Ao contrário do MSE, o MAE não penaliza erros maiores mais severamente.\n",
    "* **R² (`'r2'`)**: O R², ou coeficiente de determinação, mede a proporção da variabilidade total dos dados que é explicada pelo modelo. Em outras palavras, indica o quão bem os valores previstos se ajustam aos valores reais."
   ]
  },
  {
   "cell_type": "code",
   "execution_count": 7,
   "id": "1654cf42-7172-46a8-bf2c-8ba3895ecdb5",
   "metadata": {},
   "outputs": [],
   "source": [
    "n_splits_comparative_analysis = 10\n",
    "n_folds_grid_search = 5\n",
    "test_size = .2\n",
    "random_state = 42\n",
    "scoring = 'neg_mean_squared_error'\n",
    "metrics = ['neg_mean_squared_error', 'neg_mean_absolute_error', 'r2']\n",
    "\n",
    "max_iter = 1000 \n",
    "models = [\n",
    "    ('K-Nearest Neighbors', KNeighborsRegressor(), {\n",
    "        \"n_neighbors\": range(3, 20, 2), \n",
    "        'weights': ['uniform', 'distance']\n",
    "    }),\n",
    "    ('Gradient Boosting', GradientBoostingRegressor(random_state=random_state), {\n",
    "        'n_estimators': [50, 100, 150],\n",
    "        'learning_rate': [0.01, 0.1, 0.2],\n",
    "        'max_depth': [3, 5, 7]\n",
    "    }),\n",
    "     ('Decision Tree',  DecisionTreeRegressor(random_state=random_state), {\n",
    "        'criterion': ['squared_error', 'friedman_mse', 'absolute_error', 'poisson'], \n",
    "        'max_depth': [3, 6, 8]\n",
    "    }),\n",
    "    ('Random Forest',  RandomForestRegressor(random_state=random_state), {\n",
    "        'criterion': ['squared_error', 'absolute_error'],\n",
    "        'max_depth': [3, 6, 8], \n",
    "        'n_estimators': [10, 30]\n",
    "    }),\n",
    "]"
   ]
  },
  {
   "cell_type": "code",
   "execution_count": 8,
   "id": "b1fc7467-4329-44c0-bcae-66e03b2130cd",
   "metadata": {},
   "outputs": [
    {
     "name": "stdout",
     "output_type": "stream",
     "text": [
      "running K-Nearest Neighbors...\n"
     ]
    },
    {
     "data": {
      "text/html": [
       "<div>\n",
       "<style scoped>\n",
       "    .dataframe tbody tr th:only-of-type {\n",
       "        vertical-align: middle;\n",
       "    }\n",
       "\n",
       "    .dataframe tbody tr th {\n",
       "        vertical-align: top;\n",
       "    }\n",
       "\n",
       "    .dataframe thead th {\n",
       "        text-align: right;\n",
       "    }\n",
       "</style>\n",
       "<table border=\"1\" class=\"dataframe\">\n",
       "  <thead>\n",
       "    <tr style=\"text-align: right;\">\n",
       "      <th></th>\n",
       "      <th>fit_time</th>\n",
       "      <th>score_time</th>\n",
       "      <th>test_neg_mean_squared_error</th>\n",
       "      <th>test_neg_mean_absolute_error</th>\n",
       "      <th>test_r2</th>\n",
       "    </tr>\n",
       "  </thead>\n",
       "  <tbody>\n",
       "    <tr>\n",
       "      <th>mean</th>\n",
       "      <td>0.545742</td>\n",
       "      <td>0.019157</td>\n",
       "      <td>-7.712959</td>\n",
       "      <td>-2.070447</td>\n",
       "      <td>0.868645</td>\n",
       "    </tr>\n",
       "    <tr>\n",
       "      <th>std</th>\n",
       "      <td>0.097766</td>\n",
       "      <td>0.006709</td>\n",
       "      <td>1.255142</td>\n",
       "      <td>0.169334</td>\n",
       "      <td>0.018283</td>\n",
       "    </tr>\n",
       "  </tbody>\n",
       "</table>\n",
       "</div>"
      ],
      "text/plain": [
       "      fit_time  score_time  test_neg_mean_squared_error  \\\n",
       "mean  0.545742    0.019157                    -7.712959   \n",
       "std   0.097766    0.006709                     1.255142   \n",
       "\n",
       "      test_neg_mean_absolute_error   test_r2  \n",
       "mean                     -2.070447  0.868645  \n",
       "std                       0.169334  0.018283  "
      ]
     },
     "metadata": {},
     "output_type": "display_data"
    },
    {
     "name": "stdout",
     "output_type": "stream",
     "text": [
      "running Gradient Boosting...\n"
     ]
    },
    {
     "data": {
      "text/html": [
       "<div>\n",
       "<style scoped>\n",
       "    .dataframe tbody tr th:only-of-type {\n",
       "        vertical-align: middle;\n",
       "    }\n",
       "\n",
       "    .dataframe tbody tr th {\n",
       "        vertical-align: top;\n",
       "    }\n",
       "\n",
       "    .dataframe thead th {\n",
       "        text-align: right;\n",
       "    }\n",
       "</style>\n",
       "<table border=\"1\" class=\"dataframe\">\n",
       "  <thead>\n",
       "    <tr style=\"text-align: right;\">\n",
       "      <th></th>\n",
       "      <th>fit_time</th>\n",
       "      <th>score_time</th>\n",
       "      <th>test_neg_mean_squared_error</th>\n",
       "      <th>test_neg_mean_absolute_error</th>\n",
       "      <th>test_r2</th>\n",
       "    </tr>\n",
       "  </thead>\n",
       "  <tbody>\n",
       "    <tr>\n",
       "      <th>mean</th>\n",
       "      <td>19.143982</td>\n",
       "      <td>0.012636</td>\n",
       "      <td>-7.605241</td>\n",
       "      <td>-1.994502</td>\n",
       "      <td>0.869455</td>\n",
       "    </tr>\n",
       "    <tr>\n",
       "      <th>std</th>\n",
       "      <td>1.695012</td>\n",
       "      <td>0.001702</td>\n",
       "      <td>0.655646</td>\n",
       "      <td>0.107781</td>\n",
       "      <td>0.018083</td>\n",
       "    </tr>\n",
       "  </tbody>\n",
       "</table>\n",
       "</div>"
      ],
      "text/plain": [
       "       fit_time  score_time  test_neg_mean_squared_error  \\\n",
       "mean  19.143982    0.012636                    -7.605241   \n",
       "std    1.695012    0.001702                     0.655646   \n",
       "\n",
       "      test_neg_mean_absolute_error   test_r2  \n",
       "mean                     -1.994502  0.869455  \n",
       "std                       0.107781  0.018083  "
      ]
     },
     "metadata": {},
     "output_type": "display_data"
    },
    {
     "name": "stdout",
     "output_type": "stream",
     "text": [
      "running Decision Tree...\n"
     ]
    },
    {
     "data": {
      "text/html": [
       "<div>\n",
       "<style scoped>\n",
       "    .dataframe tbody tr th:only-of-type {\n",
       "        vertical-align: middle;\n",
       "    }\n",
       "\n",
       "    .dataframe tbody tr th {\n",
       "        vertical-align: top;\n",
       "    }\n",
       "\n",
       "    .dataframe thead th {\n",
       "        text-align: right;\n",
       "    }\n",
       "</style>\n",
       "<table border=\"1\" class=\"dataframe\">\n",
       "  <thead>\n",
       "    <tr style=\"text-align: right;\">\n",
       "      <th></th>\n",
       "      <th>fit_time</th>\n",
       "      <th>score_time</th>\n",
       "      <th>test_neg_mean_squared_error</th>\n",
       "      <th>test_neg_mean_absolute_error</th>\n",
       "      <th>test_r2</th>\n",
       "    </tr>\n",
       "  </thead>\n",
       "  <tbody>\n",
       "    <tr>\n",
       "      <th>mean</th>\n",
       "      <td>0.431298</td>\n",
       "      <td>0.016266</td>\n",
       "      <td>-13.458341</td>\n",
       "      <td>-2.514564</td>\n",
       "      <td>0.766413</td>\n",
       "    </tr>\n",
       "    <tr>\n",
       "      <th>std</th>\n",
       "      <td>0.066027</td>\n",
       "      <td>0.006693</td>\n",
       "      <td>5.302292</td>\n",
       "      <td>0.336019</td>\n",
       "      <td>0.110461</td>\n",
       "    </tr>\n",
       "  </tbody>\n",
       "</table>\n",
       "</div>"
      ],
      "text/plain": [
       "      fit_time  score_time  test_neg_mean_squared_error  \\\n",
       "mean  0.431298    0.016266                   -13.458341   \n",
       "std   0.066027    0.006693                     5.302292   \n",
       "\n",
       "      test_neg_mean_absolute_error   test_r2  \n",
       "mean                     -2.514564  0.766413  \n",
       "std                       0.336019  0.110461  "
      ]
     },
     "metadata": {},
     "output_type": "display_data"
    },
    {
     "name": "stdout",
     "output_type": "stream",
     "text": [
      "running Random Forest...\n"
     ]
    },
    {
     "data": {
      "text/html": [
       "<div>\n",
       "<style scoped>\n",
       "    .dataframe tbody tr th:only-of-type {\n",
       "        vertical-align: middle;\n",
       "    }\n",
       "\n",
       "    .dataframe tbody tr th {\n",
       "        vertical-align: top;\n",
       "    }\n",
       "\n",
       "    .dataframe thead th {\n",
       "        text-align: right;\n",
       "    }\n",
       "</style>\n",
       "<table border=\"1\" class=\"dataframe\">\n",
       "  <thead>\n",
       "    <tr style=\"text-align: right;\">\n",
       "      <th></th>\n",
       "      <th>fit_time</th>\n",
       "      <th>score_time</th>\n",
       "      <th>test_neg_mean_squared_error</th>\n",
       "      <th>test_neg_mean_absolute_error</th>\n",
       "      <th>test_r2</th>\n",
       "    </tr>\n",
       "  </thead>\n",
       "  <tbody>\n",
       "    <tr>\n",
       "      <th>mean</th>\n",
       "      <td>3.856865</td>\n",
       "      <td>0.014177</td>\n",
       "      <td>-7.341840</td>\n",
       "      <td>-1.954761</td>\n",
       "      <td>0.874353</td>\n",
       "    </tr>\n",
       "    <tr>\n",
       "      <th>std</th>\n",
       "      <td>0.544583</td>\n",
       "      <td>0.003171</td>\n",
       "      <td>1.198164</td>\n",
       "      <td>0.136663</td>\n",
       "      <td>0.022689</td>\n",
       "    </tr>\n",
       "  </tbody>\n",
       "</table>\n",
       "</div>"
      ],
      "text/plain": [
       "      fit_time  score_time  test_neg_mean_squared_error  \\\n",
       "mean  3.856865    0.014177                    -7.341840   \n",
       "std   0.544583    0.003171                     1.198164   \n",
       "\n",
       "      test_neg_mean_absolute_error   test_r2  \n",
       "mean                     -1.954761  0.874353  \n",
       "std                       0.136663  0.022689  "
      ]
     },
     "metadata": {},
     "output_type": "display_data"
    }
   ],
   "source": [
    "results = pd.DataFrame({})\n",
    "cross_validate_grid_search = KFold(n_splits=n_folds_grid_search)\n",
    "cross_validate_comparative_analysis = ShuffleSplit(n_splits=n_splits_comparative_analysis, test_size=test_size, random_state=random_state)\n",
    "\n",
    "for model_name, model_object, model_parameters in models:\n",
    "    print(f\"running {model_name}...\")\n",
    "    model_grid_search = GridSearchCV(\n",
    "        estimator=model_object,\n",
    "        param_grid=model_parameters,\n",
    "        scoring=scoring,\n",
    "        n_jobs=-1,\n",
    "        cv=cross_validate_grid_search\n",
    "    )\n",
    "    approach = Pipeline(steps=[\n",
    "        ('preprocessor', preprocessor),\n",
    "        ('model', model_grid_search)\n",
    "    ])\n",
    "    scores = cross_validate(\n",
    "        estimator=approach,\n",
    "        X=X,\n",
    "        y=y,\n",
    "        cv=cross_validate_comparative_analysis,\n",
    "        n_jobs=-1,\n",
    "        scoring=metrics\n",
    "    )\n",
    "    scores_df = pd.DataFrame(scores)\n",
    "    scores_df['model_name'] = model_name\n",
    "    results = pd.concat([results, scores_df], ignore_index=True)\n",
    "    numeric_scores_df = scores_df.select_dtypes(include=['float64', 'int64'])\n",
    "    scores_aggregated = numeric_scores_df.agg(['mean', 'std'])\n",
    "    display(scores_aggregated)"
   ]
  },
  {
   "cell_type": "code",
   "execution_count": 9,
   "id": "e2e4b954-e9e7-4d05-bc73-5b9d155b84ee",
   "metadata": {},
   "outputs": [
    {
     "data": {
      "text/markdown": [
       "## 3.1 Resultados gerais"
      ],
      "text/plain": [
       "<IPython.core.display.Markdown object>"
      ]
     },
     "metadata": {},
     "output_type": "display_data"
    },
    {
     "data": {
      "text/html": [
       "<style type=\"text/css\">\n",
       "#T_15299 td {\n",
       "  text-align: center;\n",
       "}\n",
       "#T_15299_row0_col0, #T_15299_row2_col1, #T_15299_row4_col3, #T_15299_row6_col3, #T_15299_row8_col3 {\n",
       "  color: white;\n",
       "  background-color: gray;\n",
       "  font-weight: bold;\n",
       "}\n",
       "</style>\n",
       "<table id=\"T_15299\">\n",
       "  <thead>\n",
       "    <tr>\n",
       "      <th class=\"blank\" >&nbsp;</th>\n",
       "      <th class=\"index_name level0\" >model_name</th>\n",
       "      <th id=\"T_15299_level0_col0\" class=\"col_heading level0 col0\" >Decision Tree</th>\n",
       "      <th id=\"T_15299_level0_col1\" class=\"col_heading level0 col1\" >Gradient Boosting</th>\n",
       "      <th id=\"T_15299_level0_col2\" class=\"col_heading level0 col2\" >K-Nearest Neighbors</th>\n",
       "      <th id=\"T_15299_level0_col3\" class=\"col_heading level0 col3\" >Random Forest</th>\n",
       "    </tr>\n",
       "  </thead>\n",
       "  <tbody>\n",
       "    <tr>\n",
       "      <th id=\"T_15299_level0_row0\" class=\"row_heading level0 row0\" rowspan=\"2\">fit_time</th>\n",
       "      <th id=\"T_15299_level1_row0\" class=\"row_heading level1 row0\" >mean</th>\n",
       "      <td id=\"T_15299_row0_col0\" class=\"data row0 col0\" >0.431298</td>\n",
       "      <td id=\"T_15299_row0_col1\" class=\"data row0 col1\" >19.143982</td>\n",
       "      <td id=\"T_15299_row0_col2\" class=\"data row0 col2\" >0.545742</td>\n",
       "      <td id=\"T_15299_row0_col3\" class=\"data row0 col3\" >3.856865</td>\n",
       "    </tr>\n",
       "    <tr>\n",
       "      <th id=\"T_15299_level1_row1\" class=\"row_heading level1 row1\" >std</th>\n",
       "      <td id=\"T_15299_row1_col0\" class=\"data row1 col0\" >0.066027</td>\n",
       "      <td id=\"T_15299_row1_col1\" class=\"data row1 col1\" >1.695012</td>\n",
       "      <td id=\"T_15299_row1_col2\" class=\"data row1 col2\" >0.097766</td>\n",
       "      <td id=\"T_15299_row1_col3\" class=\"data row1 col3\" >0.544583</td>\n",
       "    </tr>\n",
       "    <tr>\n",
       "      <th id=\"T_15299_level0_row2\" class=\"row_heading level0 row2\" rowspan=\"2\">score_time</th>\n",
       "      <th id=\"T_15299_level1_row2\" class=\"row_heading level1 row2\" >mean</th>\n",
       "      <td id=\"T_15299_row2_col0\" class=\"data row2 col0\" >0.016266</td>\n",
       "      <td id=\"T_15299_row2_col1\" class=\"data row2 col1\" >0.012636</td>\n",
       "      <td id=\"T_15299_row2_col2\" class=\"data row2 col2\" >0.019157</td>\n",
       "      <td id=\"T_15299_row2_col3\" class=\"data row2 col3\" >0.014177</td>\n",
       "    </tr>\n",
       "    <tr>\n",
       "      <th id=\"T_15299_level1_row3\" class=\"row_heading level1 row3\" >std</th>\n",
       "      <td id=\"T_15299_row3_col0\" class=\"data row3 col0\" >0.006693</td>\n",
       "      <td id=\"T_15299_row3_col1\" class=\"data row3 col1\" >0.001702</td>\n",
       "      <td id=\"T_15299_row3_col2\" class=\"data row3 col2\" >0.006709</td>\n",
       "      <td id=\"T_15299_row3_col3\" class=\"data row3 col3\" >0.003171</td>\n",
       "    </tr>\n",
       "    <tr>\n",
       "      <th id=\"T_15299_level0_row4\" class=\"row_heading level0 row4\" rowspan=\"2\">test_neg_mean_squared_error</th>\n",
       "      <th id=\"T_15299_level1_row4\" class=\"row_heading level1 row4\" >mean</th>\n",
       "      <td id=\"T_15299_row4_col0\" class=\"data row4 col0\" >-13.458341</td>\n",
       "      <td id=\"T_15299_row4_col1\" class=\"data row4 col1\" >-7.605241</td>\n",
       "      <td id=\"T_15299_row4_col2\" class=\"data row4 col2\" >-7.712959</td>\n",
       "      <td id=\"T_15299_row4_col3\" class=\"data row4 col3\" >-7.341840</td>\n",
       "    </tr>\n",
       "    <tr>\n",
       "      <th id=\"T_15299_level1_row5\" class=\"row_heading level1 row5\" >std</th>\n",
       "      <td id=\"T_15299_row5_col0\" class=\"data row5 col0\" >5.302292</td>\n",
       "      <td id=\"T_15299_row5_col1\" class=\"data row5 col1\" >0.655646</td>\n",
       "      <td id=\"T_15299_row5_col2\" class=\"data row5 col2\" >1.255142</td>\n",
       "      <td id=\"T_15299_row5_col3\" class=\"data row5 col3\" >1.198164</td>\n",
       "    </tr>\n",
       "    <tr>\n",
       "      <th id=\"T_15299_level0_row6\" class=\"row_heading level0 row6\" rowspan=\"2\">test_neg_mean_absolute_error</th>\n",
       "      <th id=\"T_15299_level1_row6\" class=\"row_heading level1 row6\" >mean</th>\n",
       "      <td id=\"T_15299_row6_col0\" class=\"data row6 col0\" >-2.514564</td>\n",
       "      <td id=\"T_15299_row6_col1\" class=\"data row6 col1\" >-1.994502</td>\n",
       "      <td id=\"T_15299_row6_col2\" class=\"data row6 col2\" >-2.070447</td>\n",
       "      <td id=\"T_15299_row6_col3\" class=\"data row6 col3\" >-1.954761</td>\n",
       "    </tr>\n",
       "    <tr>\n",
       "      <th id=\"T_15299_level1_row7\" class=\"row_heading level1 row7\" >std</th>\n",
       "      <td id=\"T_15299_row7_col0\" class=\"data row7 col0\" >0.336019</td>\n",
       "      <td id=\"T_15299_row7_col1\" class=\"data row7 col1\" >0.107781</td>\n",
       "      <td id=\"T_15299_row7_col2\" class=\"data row7 col2\" >0.169334</td>\n",
       "      <td id=\"T_15299_row7_col3\" class=\"data row7 col3\" >0.136663</td>\n",
       "    </tr>\n",
       "    <tr>\n",
       "      <th id=\"T_15299_level0_row8\" class=\"row_heading level0 row8\" rowspan=\"2\">test_r2</th>\n",
       "      <th id=\"T_15299_level1_row8\" class=\"row_heading level1 row8\" >mean</th>\n",
       "      <td id=\"T_15299_row8_col0\" class=\"data row8 col0\" >0.766413</td>\n",
       "      <td id=\"T_15299_row8_col1\" class=\"data row8 col1\" >0.869455</td>\n",
       "      <td id=\"T_15299_row8_col2\" class=\"data row8 col2\" >0.868645</td>\n",
       "      <td id=\"T_15299_row8_col3\" class=\"data row8 col3\" >0.874353</td>\n",
       "    </tr>\n",
       "    <tr>\n",
       "      <th id=\"T_15299_level1_row9\" class=\"row_heading level1 row9\" >std</th>\n",
       "      <td id=\"T_15299_row9_col0\" class=\"data row9 col0\" >0.110461</td>\n",
       "      <td id=\"T_15299_row9_col1\" class=\"data row9 col1\" >0.018083</td>\n",
       "      <td id=\"T_15299_row9_col2\" class=\"data row9 col2\" >0.018283</td>\n",
       "      <td id=\"T_15299_row9_col3\" class=\"data row9 col3\" >0.022689</td>\n",
       "    </tr>\n",
       "  </tbody>\n",
       "</table>\n"
      ],
      "text/plain": [
       "<pandas.io.formats.style.Styler at 0x7f07184ee9b0>"
      ]
     },
     "execution_count": 9,
     "metadata": {},
     "output_type": "execute_result"
    }
   ],
   "source": [
    "def highlight_best(s, props=''):\n",
    "    if s.name[1] != 'std':\n",
    "        if s.name[0].endswith('time'):\n",
    "            return np.where(s == np.nanmin(s.values), props, '')\n",
    "        return np.where(s == np.nanmax(s.values), props, '')\n",
    "\n",
    "display(Markdown(\"## 3.1 Resultados gerais\"))\n",
    "(\n",
    "    results\n",
    "    .groupby('model_name')\n",
    "    .agg(['mean', 'std']).T\n",
    "    .style\n",
    "    .apply(highlight_best, props='color:white;background-color:gray;font-weight: bold;', axis=1)\n",
    "    .set_table_styles([{'selector': 'td', 'props': 'text-align: center;'}])\n",
    ")"
   ]
  },
  {
   "cell_type": "markdown",
   "id": "735e5ed2-aa21-4d8e-b8ba-aeb9fc05d737",
   "metadata": {},
   "source": [
    "O Random Forest apresentou os melhores resultados na maioria das métricas de desempenho (`test_neg_mean_squared_error`, `test_neg_mean_absolute_error` e `test_r2`), o que o torna o modelo com o melhor desempenho geral, apesar de ter um tempo de treinamento (`fit_time`) e previsão (`score_time`) um pouco mais elevados em comparação com o Decision Tree e o Gradient Boosting."
   ]
  },
  {
   "cell_type": "markdown",
   "id": "18f4235a-5ca2-40bb-9528-1a22a2d5c6e2",
   "metadata": {},
   "source": [
    "## 3.2 Persistência do modelo"
   ]
  },
  {
   "cell_type": "code",
   "execution_count": 10,
   "id": "f68c332f-f15f-4e0b-82bd-946196944cfc",
   "metadata": {},
   "outputs": [
    {
     "name": "stdout",
     "output_type": "stream",
     "text": [
      "Hiper parâmetros do modelo: {'criterion': 'squared_error', 'max_depth': 8, 'n_estimators': 30}\n"
     ]
    },
    {
     "name": "stderr",
     "output_type": "stream",
     "text": [
      "/home/carla/avanti-bootcamp-cdd/.venv/lib/python3.10/site-packages/numpy/ma/core.py:2846: RuntimeWarning: invalid value encountered in cast\n",
      "  _data = np.array(data, dtype=dtype, copy=copy,\n"
     ]
    }
   ],
   "source": [
    "model_name, model_object, model_parameters  = [foo for foo in models if foo[0] == \"Random Forest\"][0] \n",
    "\n",
    "model_grid_search = GridSearchCV(\n",
    "        estimator=model_object,\n",
    "        param_grid=model_parameters,\n",
    "        scoring=scoring,\n",
    "        n_jobs=-1,\n",
    "        cv=cross_validate_grid_search\n",
    "    )\n",
    "\n",
    "approach = Pipeline([\n",
    "    (\"preprocessor\", preprocessor),\n",
    "    (\"model\", model_grid_search)\n",
    "])\n",
    "\n",
    "approach.fit(X, y)\n",
    "\n",
    "print(f\"Hiper parâmetros do modelo: {approach.steps[1][1].best_params_}\")"
   ]
  },
  {
   "cell_type": "code",
   "execution_count": 11,
   "id": "5d12f389-e4d3-4fc0-8004-268cc6f62f71",
   "metadata": {},
   "outputs": [
    {
     "data": {
      "text/plain": [
       "['../models/model.joblib']"
      ]
     },
     "execution_count": 11,
     "metadata": {},
     "output_type": "execute_result"
    }
   ],
   "source": [
    "joblib.dump(approach, '../models/model.joblib')"
   ]
  }
 ],
 "metadata": {
  "kernelspec": {
   "display_name": "Python 3 (ipykernel)",
   "language": "python",
   "name": "python3"
  },
  "language_info": {
   "codemirror_mode": {
    "name": "ipython",
    "version": 3
   },
   "file_extension": ".py",
   "mimetype": "text/x-python",
   "name": "python",
   "nbconvert_exporter": "python",
   "pygments_lexer": "ipython3",
   "version": "3.10.12"
  }
 },
 "nbformat": 4,
 "nbformat_minor": 5
}
